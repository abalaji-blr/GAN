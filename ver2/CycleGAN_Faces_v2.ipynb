{
  "nbformat": 4,
  "nbformat_minor": 0,
  "metadata": {
    "colab": {
      "name": "CycleGAN_Faces_v2.ipynb",
      "version": "0.3.2",
      "provenance": [],
      "toc_visible": true
    },
    "kernelspec": {
      "name": "python3",
      "display_name": "Python 3"
    },
    "accelerator": "GPU"
  },
  "cells": [
    {
      "cell_type": "code",
      "metadata": {
        "id": "77CQtQswKvYr",
        "colab_type": "code",
        "colab": {}
      },
      "source": [
        ""
      ],
      "execution_count": 0,
      "outputs": []
    },
    {
      "cell_type": "markdown",
      "metadata": {
        "id": "6AlM3-vMJWgZ",
        "colab_type": "text"
      },
      "source": [
        "# CycleGAN for Faces Dataset"
      ]
    },
    {
      "cell_type": "markdown",
      "metadata": {
        "id": "Lu_MyFNKJdjJ",
        "colab_type": "text"
      },
      "source": [
        "**Objective:** Implement CycleGAN for faces dataset.\n",
        "\n",
        "Dataset Location:  https://susanqq.github.io/UTKFace/\n",
        "\n",
        "Original CycleGAN Implementation in PyTorch is available at https://github.com/junyanz/pytorch-CycleGAN-and-pix2pix"
      ]
    },
    {
      "cell_type": "markdown",
      "metadata": {
        "id": "TVRVP-38JkAD",
        "colab_type": "text"
      },
      "source": [
        "## Import Dataset"
      ]
    },
    {
      "cell_type": "code",
      "metadata": {
        "id": "Hn0QyoSGJGOH",
        "colab_type": "code",
        "outputId": "ef4ffe00-cc53-4b54-fe9c-64753401b644",
        "colab": {
          "base_uri": "https://localhost:8080/",
          "height": 122
        }
      },
      "source": [
        "from google.colab import drive\n",
        "drive.mount('/content/drive')"
      ],
      "execution_count": 1,
      "outputs": [
        {
          "output_type": "stream",
          "text": [
            "Go to this URL in a browser: https://accounts.google.com/o/oauth2/auth?client_id=947318989803-6bn6qk8qdgf4n4g3pfee6491hc0brc4i.apps.googleusercontent.com&redirect_uri=urn%3Aietf%3Awg%3Aoauth%3A2.0%3Aoob&scope=email%20https%3A%2F%2Fwww.googleapis.com%2Fauth%2Fdocs.test%20https%3A%2F%2Fwww.googleapis.com%2Fauth%2Fdrive%20https%3A%2F%2Fwww.googleapis.com%2Fauth%2Fdrive.photos.readonly%20https%3A%2F%2Fwww.googleapis.com%2Fauth%2Fpeopleapi.readonly&response_type=code\n",
            "\n",
            "Enter your authorization code:\n",
            "··········\n",
            "Mounted at /content/drive\n"
          ],
          "name": "stdout"
        }
      ]
    },
    {
      "cell_type": "code",
      "metadata": {
        "id": "ilrHxlgxJtzl",
        "colab_type": "code",
        "colab": {}
      },
      "source": [
        "!cp '/content/drive/My Drive/App/CycleGAN/Faces/low_res/young.128.npz' /content\n",
        "!cp '/content/drive/My Drive/App/CycleGAN/Faces/low_res/old.128.npz'   /content"
      ],
      "execution_count": 0,
      "outputs": []
    },
    {
      "cell_type": "markdown",
      "metadata": {
        "id": "uSv6r4IJKXSm",
        "colab_type": "text"
      },
      "source": [
        "## Imports"
      ]
    },
    {
      "cell_type": "code",
      "metadata": {
        "id": "X-W73nRQKZLs",
        "colab_type": "code",
        "colab": {}
      },
      "source": [
        "import numpy as np\n",
        "import os\n",
        "from PIL import Image\n",
        "\n",
        "import matplotlib.pyplot as plt\n",
        "\n",
        "%matplotlib inline\n",
        "import datetime"
      ],
      "execution_count": 0,
      "outputs": []
    },
    {
      "cell_type": "markdown",
      "metadata": {
        "id": "cqU_dQuzKIlE",
        "colab_type": "text"
      },
      "source": [
        "## Load the dataset"
      ]
    },
    {
      "cell_type": "code",
      "metadata": {
        "id": "cOENxAiSKKjx",
        "colab_type": "code",
        "outputId": "d3741020-1164-4396-ff18-b1b9fc44b2a4",
        "colab": {
          "base_uri": "https://localhost:8080/",
          "height": 34
        }
      },
      "source": [
        "# load the compressed data\n",
        "young = np.load('/content/young.128.npz')\n",
        "young_images = young['arr_0']\n",
        "print(young_images.shape)"
      ],
      "execution_count": 4,
      "outputs": [
        {
          "output_type": "stream",
          "text": [
            "(500, 128, 128, 3)\n"
          ],
          "name": "stdout"
        }
      ]
    },
    {
      "cell_type": "code",
      "metadata": {
        "id": "7bIJ0XHpKy17",
        "colab_type": "code",
        "outputId": "3d74a249-af27-4cba-cc9f-00153ab7c319",
        "colab": {
          "base_uri": "https://localhost:8080/",
          "height": 34
        }
      },
      "source": [
        "# load the old faces data\n",
        "old = np.load('/content/old.128.npz')\n",
        "old_images = old['arr_0']\n",
        "print(old_images.shape)"
      ],
      "execution_count": 5,
      "outputs": [
        {
          "output_type": "stream",
          "text": [
            "(500, 128, 128, 3)\n"
          ],
          "name": "stdout"
        }
      ]
    },
    {
      "cell_type": "markdown",
      "metadata": {
        "id": "_ARU2V0wtekP",
        "colab_type": "text"
      },
      "source": [
        "## Rescale the values to -1 to 1"
      ]
    },
    {
      "cell_type": "code",
      "metadata": {
        "id": "fhFuyCjFting",
        "colab_type": "code",
        "colab": {}
      },
      "source": [
        "def rescale_input(data_arr):\n",
        "  res_arr = (data_arr - 127.5) / 127.5\n",
        "  return res_arr"
      ],
      "execution_count": 0,
      "outputs": []
    },
    {
      "cell_type": "markdown",
      "metadata": {
        "id": "S4zfd9-4M-T4",
        "colab_type": "text"
      },
      "source": [
        "## Install external packages"
      ]
    },
    {
      "cell_type": "code",
      "metadata": {
        "id": "GfaQtk9KNBXX",
        "colab_type": "code",
        "outputId": "763f22e2-c70f-49b7-809e-598aab14ffb5",
        "colab": {
          "base_uri": "https://localhost:8080/",
          "height": 343
        }
      },
      "source": [
        "!pip install git+https://www.github.com/keras-team/keras-contrib.git"
      ],
      "execution_count": 7,
      "outputs": [
        {
          "output_type": "stream",
          "text": [
            "Collecting git+https://www.github.com/keras-team/keras-contrib.git\n",
            "  Cloning https://www.github.com/keras-team/keras-contrib.git to /tmp/pip-req-build-64vivpo4\n",
            "  Running command git clone -q https://www.github.com/keras-team/keras-contrib.git /tmp/pip-req-build-64vivpo4\n",
            "Requirement already satisfied: keras in /usr/local/lib/python3.6/dist-packages (from keras-contrib==2.0.8) (2.2.4)\n",
            "Requirement already satisfied: pyyaml in /usr/local/lib/python3.6/dist-packages (from keras->keras-contrib==2.0.8) (3.13)\n",
            "Requirement already satisfied: keras-preprocessing>=1.0.5 in /usr/local/lib/python3.6/dist-packages (from keras->keras-contrib==2.0.8) (1.1.0)\n",
            "Requirement already satisfied: h5py in /usr/local/lib/python3.6/dist-packages (from keras->keras-contrib==2.0.8) (2.8.0)\n",
            "Requirement already satisfied: numpy>=1.9.1 in /usr/local/lib/python3.6/dist-packages (from keras->keras-contrib==2.0.8) (1.16.4)\n",
            "Requirement already satisfied: keras-applications>=1.0.6 in /usr/local/lib/python3.6/dist-packages (from keras->keras-contrib==2.0.8) (1.0.8)\n",
            "Requirement already satisfied: six>=1.9.0 in /usr/local/lib/python3.6/dist-packages (from keras->keras-contrib==2.0.8) (1.12.0)\n",
            "Requirement already satisfied: scipy>=0.14 in /usr/local/lib/python3.6/dist-packages (from keras->keras-contrib==2.0.8) (1.3.0)\n",
            "Building wheels for collected packages: keras-contrib\n",
            "  Building wheel for keras-contrib (setup.py) ... \u001b[?25l\u001b[?25hdone\n",
            "  Created wheel for keras-contrib: filename=keras_contrib-2.0.8-cp36-none-any.whl size=101066 sha256=60234cd731bcc41e81dd739ef40ab4daff9a7526b7d0a55b118546b3e32f4eb7\n",
            "  Stored in directory: /tmp/pip-ephem-wheel-cache-dou_l2uz/wheels/11/27/c8/4ed56de7b55f4f61244e2dc6ef3cdbaff2692527a2ce6502ba\n",
            "Successfully built keras-contrib\n",
            "Installing collected packages: keras-contrib\n",
            "Successfully installed keras-contrib-2.0.8\n"
          ],
          "name": "stdout"
        }
      ]
    },
    {
      "cell_type": "markdown",
      "metadata": {
        "id": "zdNRuss-McWZ",
        "colab_type": "text"
      },
      "source": [
        "## Build CycleGAN"
      ]
    },
    {
      "cell_type": "code",
      "metadata": {
        "id": "zE8vSu-YM4Wv",
        "colab_type": "code",
        "outputId": "3dc6779a-335e-4b5b-dcc6-1b8665409619",
        "colab": {
          "base_uri": "https://localhost:8080/",
          "height": 34
        }
      },
      "source": [
        "# keras layers\n",
        "from keras.layers import Input, Dense, Reshape, Flatten, Dropout, Concatenate, Lambda, add\n",
        "from keras.layers import BatchNormalization, Activation, ZeroPadding2D\n",
        "from keras.layers.advanced_activations import LeakyReLU\n",
        "from keras.layers.convolutional import UpSampling2D, Conv2D, Conv2DTranspose\n",
        "from keras.initializers import RandomNormal\n",
        "\n",
        "# from keras_contrib\n",
        "from keras_contrib.layers.normalization.instancenormalization import InstanceNormalization\n",
        "\n",
        "from keras.models import Sequential, Model\n",
        "\n",
        "from keras.optimizers import Adam"
      ],
      "execution_count": 8,
      "outputs": [
        {
          "output_type": "stream",
          "text": [
            "Using TensorFlow backend.\n"
          ],
          "name": "stderr"
        }
      ]
    },
    {
      "cell_type": "markdown",
      "metadata": {
        "id": "5XH1pudsMege",
        "colab_type": "text"
      },
      "source": [
        "### Discriminator"
      ]
    },
    {
      "cell_type": "markdown",
      "metadata": {
        "id": "NCV1LGMWMtAi",
        "colab_type": "text"
      },
      "source": [
        "For Discriminator:\n",
        "*  Use PatchGAN - only penalizes the structure at the scale of patches.\n",
        "* PatchGAN classifies the NxN patch is real or fake\n",
        "*  They have fewer parameters than the full image discriminator\n",
        "* PatchGAN are used in [Image to Image translation](https://arxiv.org/pdf/1611.07004.pdf)"
      ]
    },
    {
      "cell_type": "code",
      "metadata": {
        "id": "EMXEatLlK9gB",
        "colab_type": "code",
        "colab": {}
      },
      "source": [
        "# Discriminator layer has the following\n",
        "#  * Conv2D - filter size: 4x4, strides:2\n",
        "#  * LeakyReLU\n",
        "#  * InstanceNormalization\n",
        "#\n",
        "def d_layer(layer_input, filters, f_size=4, normalization=True):\n",
        "  d = Conv2D(filters, kernel_size=f_size, strides=2, padding='same')(layer_input)\n",
        "  d = LeakyReLU(alpha=0.2)(d)\n",
        "  if normalization:\n",
        "      d = InstanceNormalization()(d)\n",
        "  return d"
      ],
      "execution_count": 0,
      "outputs": []
    },
    {
      "cell_type": "code",
      "metadata": {
        "id": "nM4jUnfmPLOi",
        "colab_type": "code",
        "colab": {}
      },
      "source": [
        "# build discriminator uses PatchGAN\n",
        "# Uses the patch to classify the image is fake or real.\n",
        "# PatchGAN uses \n",
        "#  * kernel size 4x4\n",
        "#  * num filters double at each stage\n",
        "def build_discriminator(image_shape, num_start_filters=64):\n",
        "  img = Input(image_shape)\n",
        "  \n",
        "  d1 = d_layer(img, num_start_filters, normalization=False)\n",
        "  d2 = d_layer(d1, num_start_filters*2)\n",
        "  d3 = d_layer(d2, num_start_filters*4)\n",
        "  d4 = d_layer(d3, num_start_filters*8)\n",
        "\n",
        "  validity = Conv2D(1, kernel_size=4, strides=1, padding='same')(d4)\n",
        "  \n",
        "  model = Model(img, validity)\n",
        "  \n",
        "  # compile model\n",
        "  model.compile(loss='mse', optimizer=Adam(lr=0.0002, beta_1=0.5), loss_weights=[0.5])\n",
        "  \n",
        "  return model"
      ],
      "execution_count": 0,
      "outputs": []
    },
    {
      "cell_type": "markdown",
      "metadata": {
        "id": "dLJTv5VaPcjN",
        "colab_type": "text"
      },
      "source": [
        "### Generator"
      ]
    },
    {
      "cell_type": "markdown",
      "metadata": {
        "id": "SUTin9NrPec6",
        "colab_type": "text"
      },
      "source": [
        "Generator can be one of the following two things:\n",
        "\n",
        "     * Encoder : Decoder combo (UNet - uses skip connections)\n",
        "     or\n",
        "     * Encoder : Transformer : Decoder (Uses Residual blocks)\n",
        "     \n",
        " The Encoder shrinks the input image. Uses Conv layers (with strides:2).\n",
        " \n",
        " The Transformer uses residual blocks\n",
        " \n",
        " The Decoder expands the image with transpose Conv.\n",
        " \n",
        " Note: each layer will use LeakyReLU and InstanceNormalization"
      ]
    },
    {
      "cell_type": "markdown",
      "metadata": {
        "id": "dC7dmwpmRxN3",
        "colab_type": "text"
      },
      "source": [
        "#### Resnet block\n",
        "\n",
        "Original paper uses **reflection padding**. Let's use **same** padding for simplicity."
      ]
    },
    {
      "cell_type": "code",
      "metadata": {
        "id": "U1hpz_QRPdn9",
        "colab_type": "code",
        "colab": {}
      },
      "source": [
        "'''\n",
        "def resnet_block(r_i, layer_output, ks=3, s=1):\n",
        "    r = Lambda(lambda x: tf.pad(x, [[0,0],[1,1],[1,1],[0,0]],'REFLECT'))(r_i)\n",
        "    #r = ReflectionPadding2D(padding=(1,1))(r_i)\n",
        "    r = conv2d(r,layer_output,ks,s,padding= 'VALID')\n",
        "    r = InstanceNormalization()(r)\n",
        "    \n",
        "    r = Lambda(lambda x: tf.pad(x, [[0,0],[1,1],[1,1],[0,0]],'REFLECT'))(r)\n",
        "    #r = ReflectionPadding2D(padding=(1,1))(r)\n",
        "    r = conv2d(r,layer_output,ks,s,padding= 'VALID')\n",
        "    r = InstanceNormalization()(r)\n",
        "    \n",
        "    return add([r_i , r])\n",
        "'''\n",
        "  \n",
        "def resnet_block(n_filters, input_layer):\n",
        "  # first layer convolutional layer\n",
        "\tg = Conv2D(n_filters, (3,3), padding='same')(input_layer)\n",
        "\tg = InstanceNormalization(axis=-1)(g)\n",
        "\tg = Activation('relu')(g)\n",
        "  \n",
        "\t# second convolutional layer\n",
        "\tg = Conv2D(n_filters, (3,3), padding='same')(g)\n",
        "\tg = InstanceNormalization(axis=-1)(g)\n",
        "  \n",
        "\t# concatenate merge channel-wise with input layer\n",
        "\tg = Concatenate()([g, input_layer])\n",
        "\treturn g\n"
      ],
      "execution_count": 0,
      "outputs": []
    },
    {
      "cell_type": "code",
      "metadata": {
        "id": "0VWFSSSYhN4r",
        "colab_type": "code",
        "colab": {}
      },
      "source": [
        "# define  generator model\n",
        "def build_generator(image_shape, n_resnet=9):\n",
        "\t \n",
        "\t# image input\n",
        "\tin_image = Input(shape=image_shape)\n",
        "  \n",
        "  ## \n",
        "\t# c7s1-64\n",
        "\tg = Conv2D(64, (7,7), padding='same')(in_image)\n",
        "\tg = InstanceNormalization(axis=-1)(g)\n",
        "\tg = Activation('relu')(g)\n",
        "  \n",
        "  ## down sample\n",
        "\t# d128\n",
        "\tg = Conv2D(128, (3,3), strides=(2,2), padding='same')(g)\n",
        "\tg = InstanceNormalization(axis=-1)(g)\n",
        "\tg = Activation('relu')(g)\n",
        "\t# d256\n",
        "\tg = Conv2D(256, (3,3), strides=(2,2), padding='same')(g)\n",
        "\tg = InstanceNormalization(axis=-1)(g)\n",
        "\tg = Activation('relu')(g)\n",
        "  \n",
        "\t# R256 - resnet blocks\n",
        "\tfor _ in range(n_resnet):\n",
        "\t\tg = resnet_block(256, g)\n",
        "    \n",
        "  ## upsample\n",
        "\t# u128\n",
        "\tg = Conv2DTranspose(128, (3,3), strides=(2,2), padding='same')(g)\n",
        "\tg = InstanceNormalization(axis=-1)(g)\n",
        "\tg = Activation('relu')(g)\n",
        "\t# u64\n",
        "\tg = Conv2DTranspose(64, (3,3), strides=(2,2), padding='same')(g)\n",
        "\tg = InstanceNormalization(axis=-1)(g)\n",
        "\tg = Activation('relu')(g)\n",
        "\t# c7s1-3\n",
        "\tg = Conv2D(3, (7,7), padding='same')(g)\n",
        "\tg = InstanceNormalization(axis=-1)(g)\n",
        "\tout_image = Activation('tanh')(g)\n",
        "  \n",
        "\t# define model\n",
        "\tmodel = Model(in_image, out_image)\n",
        "\treturn model"
      ],
      "execution_count": 0,
      "outputs": []
    },
    {
      "cell_type": "markdown",
      "metadata": {
        "id": "A6G6BjFAlc0X",
        "colab_type": "text"
      },
      "source": [
        "### Build combined model"
      ]
    },
    {
      "cell_type": "code",
      "metadata": {
        "id": "l6eudZmpp2-s",
        "colab_type": "code",
        "colab": {}
      },
      "source": [
        "## build combined model generator1, discrimator1 and generator2\n",
        "##\n",
        "## 1. The cycle loss is given more weightage 10 time more than\n",
        "##    the adversarial loss.\n",
        "##\n",
        "## 2. The identity loss is half the weightage of the cycle loss\n",
        "##    so, it is 5\n",
        "\n",
        "def build_combined_model(image_shape, g_model1, d_model, g_model2):\n",
        "  # update the trainable flag\n",
        "  g_model1.trainable = True\n",
        "  d_model.trainable = False\n",
        "  g_model2.trainable = False\n",
        "  \n",
        "  # discriminator elelemnt\n",
        "  input_gen = Input(shape=image_shape)\n",
        "  \n",
        "  gen1_out = g_model1(input_gen)\n",
        "  output_d = d_model(gen1_out)\n",
        "  \n",
        "  # identity element\n",
        "  input_id = Input(shape=image_shape)\n",
        "  output_id = g_model1(input_id)\n",
        "  \n",
        "  # forward cycle\n",
        "  output_f = g_model2(gen1_out)\n",
        "  \n",
        "  # backward cycle\n",
        "  gen2_out = g_model2(input_id)\n",
        "  output_b = g_model1(gen2_out)\n",
        "  \n",
        "  #define combined model\n",
        "  model = Model([input_gen, input_id], [output_d, output_id, output_f, output_b])\n",
        "  \n",
        "  #define the optimizer\n",
        "  opt = Adam(lr=0.0002, beta_1=0.5)\n",
        "  \n",
        "  # compile model with weighting of least squares loss and L1 loss\n",
        "  ## Cycle loss is 10 times more than adv. loss\n",
        "  ## ident loss is half the cylce loss\n",
        "  model.compile(loss=['mse', 'mae', 'mae', 'mae'], loss_weights=[1, 5, 10, 10], optimizer=opt)\n",
        "  return model"
      ],
      "execution_count": 0,
      "outputs": []
    },
    {
      "cell_type": "markdown",
      "metadata": {
        "id": "VgIjj1Lv8-Eu",
        "colab_type": "text"
      },
      "source": [
        "## Training"
      ]
    },
    {
      "cell_type": "code",
      "metadata": {
        "id": "wrq3PrUz2gLO",
        "colab_type": "code",
        "colab": {}
      },
      "source": [
        "# generate real samples\n",
        "def gen_real_samples(dataset, n_samples, patch_size):\n",
        "  # get random image\n",
        "  idx = np.random.randint(0, dataset.shape[0], n_samples)\n",
        "  \n",
        "  X = dataset[idx]\n",
        "  \n",
        "  # generate labels as well.\n",
        "  y = np.ones((n_samples, patch_size, patch_size, 1))\n",
        "  return X, y\n",
        "\n",
        "  "
      ],
      "execution_count": 0,
      "outputs": []
    },
    {
      "cell_type": "code",
      "metadata": {
        "id": "2tuhUpAK9_Iv",
        "colab_type": "code",
        "colab": {}
      },
      "source": [
        "# generate fake images from generator\n",
        "def gen_fake_samples(g_model, images, patch_size):\n",
        "  # use model predictor\n",
        "  fake_images = g_model.predict(images)\n",
        "  \n",
        "  # mark the labels as zero for fake.\n",
        "  y = np.zeros((len(fake_images), patch_size, patch_size, 1))\n",
        "  return fake_images, y"
      ],
      "execution_count": 0,
      "outputs": []
    },
    {
      "cell_type": "code",
      "metadata": {
        "id": "1SiPqD9H_Jj-",
        "colab_type": "code",
        "colab": {}
      },
      "source": [
        "# save models to file\n",
        "def save_models(epoch, directory, gen_AB, gen_BA):\n",
        "  file_name1 = 'gen_modelAB_e%03d.hdf5' % (epoch)\n",
        "  path1 = os.path.join(directory, file_name1)\n",
        "  \n",
        "  file_name2 = 'gen_modelBA_e%03d.hdf5' % (epoch)\n",
        "  path2 = os.path.join(directory, file_name2)\n",
        "  \n",
        "  gen_AB.save(path1)\n",
        "  gen_BA.save(path2)\n",
        "  return"
      ],
      "execution_count": 0,
      "outputs": []
    },
    {
      "cell_type": "code",
      "metadata": {
        "id": "I0542p_YBE4r",
        "colab_type": "code",
        "colab": {}
      },
      "source": [
        "# sample images at regular intervals to see the progress\n",
        "def sample_images(epoch, step, gen_model, trainX, prefix, directory, n_samples=5):\n",
        "  # get the real samples\n",
        "  X_in, _ = gen_real_samples(trainX, n_samples, 0)\n",
        "  \n",
        "  # get the generated / translated images\n",
        "  X_out, _ = gen_fake_samples(gen_model, X_in, 0)\n",
        "  \n",
        "  ## rescale [-1,1] to [0,1]\n",
        "  X_in = (X_in + 1) / 2.0\n",
        "  X_out = (X_out + 1) / 2.0\n",
        "  \n",
        "  ## generate the plot fig to save.\n",
        "  ## plt.subplot(nrows, ncols, index)\n",
        "  n_rows = 2\n",
        "  n_cols = n_samples\n",
        "  \n",
        "  ## original images\n",
        "  for i in range(n_samples):\n",
        "    plt.subplot(n_rows, n_cols, i+1)\n",
        "    plt.axis('off')\n",
        "    plt.imshow(X_in[i])\n",
        "    \n",
        "  ## translated images in the second row\n",
        "  for i in range(n_samples):\n",
        "    plt.subplot(n_rows, n_cols, n_samples+i+1)\n",
        "    plt.axis('off')\n",
        "    plt.imshow(X_out[i])\n",
        "    \n",
        "  ## save the plot\n",
        "  filename = '%s_plot_e%02d_%04d.png' % (prefix, epoch, step+1)\n",
        "  path = os.path.join(directory, filename)\n",
        "  \n",
        "  plt.savefig(path)\n",
        "  plt.close()\n",
        "  return"
      ],
      "execution_count": 0,
      "outputs": []
    },
    {
      "cell_type": "code",
      "metadata": {
        "id": "apybkxn3LW3A",
        "colab_type": "code",
        "colab": {}
      },
      "source": [
        "# define training\n",
        "def train(n_epochs, n_batch_size, sample_interval, dis_A, dis_B, gen_AB, gen_BA, comb_AB, comb_BA, trainA, trainB):\n",
        "  # get the patch size\n",
        "  n_patch = dis_A.output_shape[1]\n",
        "  \n",
        "  # number of batches per epoch\n",
        "  n_bat_per_epoch = int(len(trainA) / n_batch_size)\n",
        "  \n",
        "  # total number of steps to go thru\n",
        "  #n_steps = n_bat_per_epoch * n_epochs\n",
        "  \n",
        "  # get the start time\n",
        "  start_time = datetime.datetime.now()\n",
        "\n",
        "  for epoch in range(1, n_epochs+1):\n",
        "    #\n",
        "    # go thru each step for training\n",
        "    for i in range(n_bat_per_epoch):\n",
        "      # get the real samples from both domains\n",
        "      X_realA, y_realA = gen_real_samples(trainA, n_batch_size, n_patch)\n",
        "      X_realB, y_realB = gen_real_samples(trainB, n_batch_size, n_patch)\n",
        "\n",
        "      # get the translataed images for both domains\n",
        "      X_fakeA, y_fakeA = gen_fake_samples(gen_BA, X_realB, n_patch)\n",
        "      X_fakeB, y_fakeB = gen_fake_samples(gen_AB, X_realA, n_patch)\n",
        "\n",
        "      # original paper, updates the pool for fake images. TODO.\n",
        "\n",
        "      # Train generator_BA\n",
        "      gA_loss = comb_BA.train_on_batch([X_realB, X_realA], [y_realA, X_realA, X_realB, X_realA])\n",
        "\n",
        "      #--------------------\n",
        "      # Train Discriminator A\n",
        "      #--------------------\n",
        "      dA_loss_real = dis_A.train_on_batch(X_realA, y_realA)\n",
        "      dA_loss_fake = dis_A.train_on_batch(X_fakeA, y_fakeA)\n",
        "\n",
        "      dA_loss = 0.5 * np.add(dA_loss_real, dA_loss_fake)\n",
        "\n",
        "      # Train generator_AB\n",
        "      gB_loss = comb_AB.train_on_batch([X_realA, X_realB], [y_realB, X_realB, X_realA, X_realB])\n",
        "\n",
        "      #--------------------\n",
        "      # Train Discriminator B\n",
        "      #--------------------    \n",
        "      dB_loss_real = dis_B.train_on_batch(X_realB, y_realB)\n",
        "      dB_loss_fake = dis_B.train_on_batch(X_fakeB, y_fakeB)\n",
        "      dB_loss = 0.5 * np.add(dB_loss_real, dB_loss_fake)\n",
        "\n",
        "      # Total disciminator loss\n",
        "      d_loss = 0.5 * np.add(dA_loss, dB_loss)\n",
        "\n",
        "      # get the time\n",
        "      elapsed_time = datetime.datetime.now() - start_time\n",
        "\n",
        "      if ( i % sample_interval == 0):\n",
        "        print (\"[Epoch %d/%d] [Batch %d] [D loss: %f] [GA loss: %05f, GB loss: %05f ] time: %s \" \\\n",
        "                                                                        % ( epoch, n_epochs,\n",
        "                                                                            i,  \n",
        "                                                                            d_loss,\n",
        "                                                                            gA_loss[0],\n",
        "                                                                            gB_loss[0],                                                \n",
        "                                                                            elapsed_time))\n",
        "        \n",
        "        sample_images(epoch, i, gen_AB, trainA, 'AtoB', '/content/gen_images')\n",
        "        sample_images(epoch, i, gen_BA, trainB, 'BtoA', '/content/gen_images')\n",
        "        \n",
        "    # every epoch takes more than one hour is GPU\n",
        "    # so save models\n",
        "    if ( epoch % 2 == 0):\n",
        "      #save_models(epoch, '/content/drive/My Drive/App/CycleGAN/Faces/low_res/models', gen_AB, gen_BA, )\n",
        "      save_models(epoch, '/content/models', gen_AB, gen_BA)\n",
        "        "
      ],
      "execution_count": 0,
      "outputs": []
    },
    {
      "cell_type": "code",
      "metadata": {
        "id": "PPYYN283oiib",
        "colab_type": "code",
        "colab": {}
      },
      "source": [
        "# then normalize the data\n",
        "trainA = rescale_input(young_images)\n",
        "trainB = rescale_input(old_images)"
      ],
      "execution_count": 0,
      "outputs": []
    },
    {
      "cell_type": "code",
      "metadata": {
        "id": "oaPIH4ai4GkS",
        "colab_type": "code",
        "colab": {}
      },
      "source": [
        "#trainA.shape\n",
        "#trainA[1]\n",
        "image_shape = trainA.shape[1:]"
      ],
      "execution_count": 0,
      "outputs": []
    },
    {
      "cell_type": "code",
      "metadata": {
        "id": "k7qCggsLMewh",
        "colab_type": "code",
        "colab": {
          "base_uri": "https://localhost:8080/",
          "height": 34
        },
        "outputId": "94fa964e-5508-43a9-a4e2-7c10bd71a403"
      },
      "source": [
        "print(image_shape)"
      ],
      "execution_count": 20,
      "outputs": [
        {
          "output_type": "stream",
          "text": [
            "(128, 128, 3)\n"
          ],
          "name": "stdout"
        }
      ]
    },
    {
      "cell_type": "code",
      "metadata": {
        "id": "w2hc-JXWxR4k",
        "colab_type": "code",
        "outputId": "cd1fd095-d94f-4d19-fe00-cdb8462ac5c3",
        "colab": {
          "base_uri": "https://localhost:8080/",
          "height": 156
        }
      },
      "source": [
        "# define generators\n",
        "# for resolution of 128, num resnet blocks is 6.\n",
        "gen_AB = build_generator(image_shape, 6)\n",
        "gen_BA = build_generator(image_shape, 6)"
      ],
      "execution_count": 22,
      "outputs": [
        {
          "output_type": "stream",
          "text": [
            "WARNING: Logging before flag parsing goes to stderr.\n",
            "W0807 14:29:24.096668 140157669853056 deprecation_wrapper.py:119] From /usr/local/lib/python3.6/dist-packages/keras/backend/tensorflow_backend.py:74: The name tf.get_default_graph is deprecated. Please use tf.compat.v1.get_default_graph instead.\n",
            "\n",
            "W0807 14:29:24.141609 140157669853056 deprecation_wrapper.py:119] From /usr/local/lib/python3.6/dist-packages/keras/backend/tensorflow_backend.py:517: The name tf.placeholder is deprecated. Please use tf.compat.v1.placeholder instead.\n",
            "\n",
            "W0807 14:29:24.149805 140157669853056 deprecation_wrapper.py:119] From /usr/local/lib/python3.6/dist-packages/keras/backend/tensorflow_backend.py:4138: The name tf.random_uniform is deprecated. Please use tf.random.uniform instead.\n",
            "\n"
          ],
          "name": "stderr"
        }
      ]
    },
    {
      "cell_type": "code",
      "metadata": {
        "id": "emj2X5Cdzxpy",
        "colab_type": "code",
        "outputId": "7da68d31-01a9-4a0b-9176-12a102310167",
        "colab": {
          "base_uri": "https://localhost:8080/",
          "height": 71
        }
      },
      "source": [
        "# define discriminators\n",
        "dis_A = build_discriminator(image_shape)\n",
        "dis_B = build_discriminator(image_shape)"
      ],
      "execution_count": 23,
      "outputs": [
        {
          "output_type": "stream",
          "text": [
            "W0807 14:29:25.787989 140157669853056 deprecation_wrapper.py:119] From /usr/local/lib/python3.6/dist-packages/keras/optimizers.py:790: The name tf.train.Optimizer is deprecated. Please use tf.compat.v1.train.Optimizer instead.\n",
            "\n"
          ],
          "name": "stderr"
        }
      ]
    },
    {
      "cell_type": "code",
      "metadata": {
        "id": "ES5-dQKz00L4",
        "colab_type": "code",
        "colab": {}
      },
      "source": [
        "# define the combined model\n",
        "combined_model_AB = build_combined_model(image_shape, gen_AB, dis_B, gen_BA)\n",
        "combined_model_BA = build_combined_model(image_shape, gen_BA, dis_A, gen_AB)"
      ],
      "execution_count": 0,
      "outputs": []
    },
    {
      "cell_type": "code",
      "metadata": {
        "id": "pm8mtNhzMnxT",
        "colab_type": "code",
        "colab": {}
      },
      "source": [
        "!rm -rf /content/gen_images\n",
        "!rm -rf /content/models"
      ],
      "execution_count": 0,
      "outputs": []
    },
    {
      "cell_type": "code",
      "metadata": {
        "id": "KHrD1u7yfb5l",
        "colab_type": "code",
        "colab": {}
      },
      "source": [
        "!mkdir /content/gen_images\n",
        "!mkdir /content/models"
      ],
      "execution_count": 0,
      "outputs": []
    },
    {
      "cell_type": "code",
      "metadata": {
        "id": "OdHlWzpoIcxv",
        "colab_type": "code",
        "colab": {}
      },
      "source": [
        "# perform training\n",
        "n_epochs = 10\n",
        "n_batch_size = 1\n",
        "#n_patch_size = dis_A.output_shape[1]\n",
        "sample_interval = 250"
      ],
      "execution_count": 0,
      "outputs": []
    },
    {
      "cell_type": "code",
      "metadata": {
        "id": "2O95pqY4JhZp",
        "colab_type": "code",
        "outputId": "e52735d2-8a65-43aa-96cf-822d2ef2088c",
        "colab": {
          "base_uri": "https://localhost:8080/",
          "height": 581
        }
      },
      "source": [
        "train(n_epochs, n_batch_size, sample_interval,\n",
        "     dis_A, dis_B,\n",
        "     gen_AB, gen_BA,\n",
        "     combined_model_AB, combined_model_BA,\n",
        "     trainA, \n",
        "     trainB)"
      ],
      "execution_count": 28,
      "outputs": [
        {
          "output_type": "stream",
          "text": [
            "W0807 14:29:37.553123 140157669853056 deprecation_wrapper.py:119] From /usr/local/lib/python3.6/dist-packages/keras/backend/tensorflow_backend.py:2741: The name tf.Session is deprecated. Please use tf.compat.v1.Session instead.\n",
            "\n",
            "W0807 14:29:37.558047 140157669853056 deprecation_wrapper.py:119] From /usr/local/lib/python3.6/dist-packages/keras/backend/tensorflow_backend.py:174: The name tf.get_default_session is deprecated. Please use tf.compat.v1.get_default_session instead.\n",
            "\n",
            "/usr/local/lib/python3.6/dist-packages/keras/engine/training.py:490: UserWarning: Discrepancy between trainable weights and collected trainable weights, did you set `model.trainable` without calling `model.compile` after ?\n",
            "  'Discrepancy between trainable weights and collected trainable'\n",
            "/usr/local/lib/python3.6/dist-packages/keras/engine/training.py:490: UserWarning: Discrepancy between trainable weights and collected trainable weights, did you set `model.trainable` without calling `model.compile` after ?\n",
            "  'Discrepancy between trainable weights and collected trainable'\n",
            "/usr/local/lib/python3.6/dist-packages/keras/engine/training.py:490: UserWarning: Discrepancy between trainable weights and collected trainable weights, did you set `model.trainable` without calling `model.compile` after ?\n",
            "  'Discrepancy between trainable weights and collected trainable'\n",
            "/usr/local/lib/python3.6/dist-packages/keras/engine/training.py:490: UserWarning: Discrepancy between trainable weights and collected trainable weights, did you set `model.trainable` without calling `model.compile` after ?\n",
            "  'Discrepancy between trainable weights and collected trainable'\n"
          ],
          "name": "stderr"
        },
        {
          "output_type": "stream",
          "text": [
            "[Epoch 1/10] [Batch 0] [D loss: 4.442421] [GA loss: 19.608568, GB loss: 17.686743 ] time: 0:01:24.640852 \n",
            "[Epoch 1/10] [Batch 250] [D loss: 0.376362] [GA loss: 6.358499, GB loss: 5.150681 ] time: 0:06:22.992762 \n",
            "[Epoch 2/10] [Batch 0] [D loss: 0.146605] [GA loss: 4.880492, GB loss: 5.028635 ] time: 0:11:19.825113 \n",
            "[Epoch 2/10] [Batch 250] [D loss: 0.116012] [GA loss: 4.750803, GB loss: 4.103230 ] time: 0:16:16.767087 \n",
            "[Epoch 3/10] [Batch 0] [D loss: 0.130084] [GA loss: 6.664525, GB loss: 6.279373 ] time: 0:21:57.761432 \n",
            "[Epoch 3/10] [Batch 250] [D loss: 0.168301] [GA loss: 4.367022, GB loss: 4.220310 ] time: 0:26:54.576038 \n",
            "[Epoch 4/10] [Batch 0] [D loss: 0.096039] [GA loss: 4.567014, GB loss: 4.132310 ] time: 0:31:52.139467 \n",
            "[Epoch 4/10] [Batch 250] [D loss: 0.064165] [GA loss: 5.668515, GB loss: 4.658167 ] time: 0:36:46.472208 \n",
            "[Epoch 5/10] [Batch 0] [D loss: 0.080418] [GA loss: 3.785238, GB loss: 3.654710 ] time: 0:41:40.436192 \n",
            "[Epoch 5/10] [Batch 250] [D loss: 0.037025] [GA loss: 4.136448, GB loss: 3.650710 ] time: 0:46:34.143212 \n",
            "[Epoch 6/10] [Batch 0] [D loss: 0.145775] [GA loss: 4.814329, GB loss: 3.869227 ] time: 0:51:27.416801 \n",
            "[Epoch 6/10] [Batch 250] [D loss: 0.086913] [GA loss: 4.772271, GB loss: 5.493837 ] time: 0:56:21.236345 \n",
            "[Epoch 7/10] [Batch 0] [D loss: 0.083051] [GA loss: 4.564434, GB loss: 4.109305 ] time: 1:01:16.700609 \n",
            "[Epoch 7/10] [Batch 250] [D loss: 0.124034] [GA loss: 4.193662, GB loss: 3.519799 ] time: 1:06:12.333075 \n",
            "[Epoch 8/10] [Batch 0] [D loss: 0.107588] [GA loss: 4.181050, GB loss: 3.435567 ] time: 1:11:07.633620 \n",
            "[Epoch 8/10] [Batch 250] [D loss: 0.150121] [GA loss: 3.573017, GB loss: 3.157505 ] time: 1:16:02.287518 \n",
            "[Epoch 9/10] [Batch 0] [D loss: 0.059101] [GA loss: 3.928337, GB loss: 4.009218 ] time: 1:20:55.818766 \n",
            "[Epoch 9/10] [Batch 250] [D loss: 0.097610] [GA loss: 5.240892, GB loss: 4.072023 ] time: 1:25:48.753553 \n",
            "[Epoch 10/10] [Batch 0] [D loss: 0.057051] [GA loss: 6.117604, GB loss: 4.689665 ] time: 1:30:41.716366 \n",
            "[Epoch 10/10] [Batch 250] [D loss: 0.094389] [GA loss: 4.273675, GB loss: 4.152162 ] time: 1:35:36.192065 \n"
          ],
          "name": "stdout"
        }
      ]
    },
    {
      "cell_type": "code",
      "metadata": {
        "id": "-J2ZSRPD-xBF",
        "colab_type": "code",
        "colab": {
          "base_uri": "https://localhost:8080/",
          "height": 85
        },
        "outputId": "536ade15-0078-4eea-c8f0-b1c8fa949b76"
      },
      "source": [
        "!cp /content/gen_images/AtoB_plot_e07_0601.png '/content/drive/My Drive/App/CycleGAN/Faces/gen_images'\n",
        "!cp /content/gen_images/AtoB_plot_e07_0401.png '/content/drive/My Drive/App/CycleGAN/Faces/gen_images'\n",
        "!cp /content/gen_images/BtoA_plot_e07_0601.png '/content/drive/My Drive/App/CycleGAN/Faces/gen_images'\n",
        "!cp /content/gen_images/BtoA_plot_e07_0401.png '/content/drive/My Drive/App/CycleGAN/Faces/gen_images'\n"
      ],
      "execution_count": 29,
      "outputs": [
        {
          "output_type": "stream",
          "text": [
            "cp: cannot stat '/content/gen_images/AtoB_plot_e07_0601.png': No such file or directory\n",
            "cp: cannot stat '/content/gen_images/AtoB_plot_e07_0401.png': No such file or directory\n",
            "cp: cannot stat '/content/gen_images/BtoA_plot_e07_0601.png': No such file or directory\n",
            "cp: cannot stat '/content/gen_images/BtoA_plot_e07_0401.png': No such file or directory\n"
          ],
          "name": "stdout"
        }
      ]
    },
    {
      "cell_type": "code",
      "metadata": {
        "id": "utLXhx4KBgsM",
        "colab_type": "code",
        "colab": {}
      },
      "source": [
        "!mv /content/gen_images /content/gen_images_run1\n",
        "!mv /content/models /content/modles_run1"
      ],
      "execution_count": 0,
      "outputs": []
    },
    {
      "cell_type": "code",
      "metadata": {
        "id": "iIqA4MgH3YpQ",
        "colab_type": "code",
        "colab": {}
      },
      "source": [
        "!mkdir /content/gen_images\n",
        "!mkdir /content/models"
      ],
      "execution_count": 0,
      "outputs": []
    },
    {
      "cell_type": "markdown",
      "metadata": {
        "id": "V9tsiXz53q2q",
        "colab_type": "text"
      },
      "source": [
        "## Train further more"
      ]
    },
    {
      "cell_type": "code",
      "metadata": {
        "id": "0s9MxEQ03deY",
        "colab_type": "code",
        "colab": {
          "base_uri": "https://localhost:8080/",
          "height": 1000
        },
        "outputId": "c5b804d7-2d8d-4af3-d4ea-1319ac4ea635"
      },
      "source": [
        "# perform training\n",
        "n_epochs = 50\n",
        "train(n_epochs, n_batch_size, sample_interval,\n",
        "     dis_A, dis_B,\n",
        "     gen_AB, gen_BA,\n",
        "     combined_model_AB, combined_model_BA,\n",
        "     trainA, \n",
        "     trainB)"
      ],
      "execution_count": 32,
      "outputs": [
        {
          "output_type": "stream",
          "text": [
            "/usr/local/lib/python3.6/dist-packages/keras/engine/training.py:490: UserWarning: Discrepancy between trainable weights and collected trainable weights, did you set `model.trainable` without calling `model.compile` after ?\n",
            "  'Discrepancy between trainable weights and collected trainable'\n"
          ],
          "name": "stderr"
        },
        {
          "output_type": "stream",
          "text": [
            "[Epoch 1/50] [Batch 0] [D loss: 0.095882] [GA loss: 3.057039, GB loss: 2.628413 ] time: 0:00:01.326158 \n",
            "[Epoch 1/50] [Batch 250] [D loss: 0.094835] [GA loss: 3.709941, GB loss: 3.152402 ] time: 0:04:55.177137 \n",
            "[Epoch 2/50] [Batch 0] [D loss: 0.053088] [GA loss: 5.379539, GB loss: 6.167553 ] time: 0:09:48.226274 \n",
            "[Epoch 2/50] [Batch 250] [D loss: 0.047193] [GA loss: 4.057099, GB loss: 3.546183 ] time: 0:14:42.471570 \n",
            "[Epoch 3/50] [Batch 0] [D loss: 0.083339] [GA loss: 2.768277, GB loss: 2.671884 ] time: 0:19:39.485605 \n",
            "[Epoch 3/50] [Batch 250] [D loss: 0.121297] [GA loss: 4.727778, GB loss: 3.830541 ] time: 0:24:36.232405 \n",
            "[Epoch 4/50] [Batch 0] [D loss: 0.044829] [GA loss: 4.191004, GB loss: 3.946934 ] time: 0:29:31.926103 \n",
            "[Epoch 4/50] [Batch 250] [D loss: 0.081432] [GA loss: 4.358021, GB loss: 3.611142 ] time: 0:34:26.582400 \n",
            "[Epoch 5/50] [Batch 0] [D loss: 0.023520] [GA loss: 3.770883, GB loss: 3.308651 ] time: 0:39:20.883068 \n",
            "[Epoch 5/50] [Batch 250] [D loss: 0.068644] [GA loss: 2.727007, GB loss: 2.517905 ] time: 0:44:14.663620 \n",
            "[Epoch 6/50] [Batch 0] [D loss: 0.081266] [GA loss: 3.995742, GB loss: 2.891531 ] time: 0:49:08.351762 \n",
            "[Epoch 6/50] [Batch 250] [D loss: 0.070195] [GA loss: 4.816003, GB loss: 5.092756 ] time: 0:54:03.119691 \n",
            "[Epoch 7/50] [Batch 0] [D loss: 0.123168] [GA loss: 3.571350, GB loss: 2.759334 ] time: 0:58:59.670640 \n",
            "[Epoch 7/50] [Batch 250] [D loss: 0.114244] [GA loss: 2.143808, GB loss: 2.341741 ] time: 1:03:53.839670 \n",
            "[Epoch 8/50] [Batch 0] [D loss: 0.056765] [GA loss: 8.828378, GB loss: 7.788387 ] time: 1:08:46.909419 \n",
            "[Epoch 8/50] [Batch 250] [D loss: 0.023088] [GA loss: 2.590063, GB loss: 2.446760 ] time: 1:13:41.034121 \n",
            "[Epoch 9/50] [Batch 0] [D loss: 0.052707] [GA loss: 3.233731, GB loss: 2.712428 ] time: 1:18:35.000220 \n",
            "[Epoch 9/50] [Batch 250] [D loss: 0.066846] [GA loss: 6.318366, GB loss: 4.946126 ] time: 1:23:28.970556 \n",
            "[Epoch 10/50] [Batch 0] [D loss: 0.109508] [GA loss: 3.173722, GB loss: 3.758428 ] time: 1:28:24.081703 \n",
            "[Epoch 10/50] [Batch 250] [D loss: 0.137321] [GA loss: 3.580485, GB loss: 3.451724 ] time: 1:33:18.402009 \n",
            "[Epoch 11/50] [Batch 0] [D loss: 0.074822] [GA loss: 3.500084, GB loss: 2.553101 ] time: 1:38:12.308573 \n",
            "[Epoch 11/50] [Batch 250] [D loss: 0.090427] [GA loss: 3.738346, GB loss: 2.950107 ] time: 1:43:05.572808 \n",
            "[Epoch 12/50] [Batch 0] [D loss: 0.031165] [GA loss: 3.721522, GB loss: 3.925892 ] time: 1:47:58.980011 \n",
            "[Epoch 12/50] [Batch 250] [D loss: 0.097558] [GA loss: 4.872644, GB loss: 4.111549 ] time: 1:52:52.692109 \n",
            "[Epoch 13/50] [Batch 0] [D loss: 0.069934] [GA loss: 3.489305, GB loss: 3.055334 ] time: 1:57:47.817374 \n",
            "[Epoch 13/50] [Batch 250] [D loss: 0.046413] [GA loss: 3.953766, GB loss: 4.334022 ] time: 2:02:41.665635 \n",
            "[Epoch 14/50] [Batch 0] [D loss: 0.132035] [GA loss: 2.783643, GB loss: 2.412812 ] time: 2:07:35.584294 \n",
            "[Epoch 14/50] [Batch 250] [D loss: 0.172106] [GA loss: 2.810048, GB loss: 1.815753 ] time: 2:12:29.592147 \n",
            "[Epoch 15/50] [Batch 0] [D loss: 0.025930] [GA loss: 3.446392, GB loss: 3.738753 ] time: 2:17:24.247125 \n",
            "[Epoch 15/50] [Batch 250] [D loss: 0.126901] [GA loss: 3.532333, GB loss: 3.198289 ] time: 2:22:19.142202 \n",
            "[Epoch 16/50] [Batch 0] [D loss: 0.039021] [GA loss: 4.185593, GB loss: 3.632075 ] time: 2:27:13.557830 \n",
            "[Epoch 16/50] [Batch 250] [D loss: 0.021049] [GA loss: 6.961967, GB loss: 5.867053 ] time: 2:32:08.173205 \n",
            "[Epoch 17/50] [Batch 0] [D loss: 0.087014] [GA loss: 2.564624, GB loss: 2.189291 ] time: 2:37:03.194283 \n",
            "[Epoch 17/50] [Batch 250] [D loss: 0.081708] [GA loss: 3.356188, GB loss: 3.485186 ] time: 2:41:57.252270 \n",
            "[Epoch 18/50] [Batch 0] [D loss: 0.032731] [GA loss: 4.538958, GB loss: 3.581224 ] time: 2:46:52.654572 \n",
            "[Epoch 18/50] [Batch 250] [D loss: 0.075182] [GA loss: 2.590934, GB loss: 2.631628 ] time: 2:51:47.289143 \n",
            "[Epoch 19/50] [Batch 0] [D loss: 0.052014] [GA loss: 3.529078, GB loss: 3.807291 ] time: 2:56:41.428832 \n",
            "[Epoch 19/50] [Batch 250] [D loss: 0.098234] [GA loss: 3.562057, GB loss: 3.263250 ] time: 3:01:36.089028 \n",
            "[Epoch 20/50] [Batch 0] [D loss: 0.063861] [GA loss: 3.154289, GB loss: 2.603208 ] time: 3:06:30.228362 \n",
            "[Epoch 20/50] [Batch 250] [D loss: 0.039329] [GA loss: 3.873455, GB loss: 3.770816 ] time: 3:11:23.687957 \n",
            "[Epoch 21/50] [Batch 0] [D loss: 0.064199] [GA loss: 3.482323, GB loss: 3.038276 ] time: 3:16:18.068627 \n",
            "[Epoch 21/50] [Batch 250] [D loss: 0.067642] [GA loss: 3.733947, GB loss: 3.058404 ] time: 3:21:10.460542 \n",
            "[Epoch 22/50] [Batch 0] [D loss: 0.028662] [GA loss: 3.105195, GB loss: 3.205876 ] time: 3:26:02.740583 \n",
            "[Epoch 22/50] [Batch 250] [D loss: 0.078165] [GA loss: 3.087328, GB loss: 2.565276 ] time: 3:30:55.078944 \n",
            "[Epoch 23/50] [Batch 0] [D loss: 0.103204] [GA loss: 2.565386, GB loss: 2.687059 ] time: 3:35:48.279113 \n",
            "[Epoch 23/50] [Batch 250] [D loss: 0.058989] [GA loss: 2.452699, GB loss: 2.737073 ] time: 3:40:41.203678 \n",
            "[Epoch 24/50] [Batch 0] [D loss: 0.016564] [GA loss: 4.125828, GB loss: 4.148265 ] time: 3:45:34.649510 \n",
            "[Epoch 24/50] [Batch 250] [D loss: 0.053779] [GA loss: 7.012404, GB loss: 7.646442 ] time: 3:50:28.665784 \n",
            "[Epoch 25/50] [Batch 0] [D loss: 0.078126] [GA loss: 4.644058, GB loss: 3.773912 ] time: 3:55:23.612842 \n",
            "[Epoch 25/50] [Batch 250] [D loss: 0.052384] [GA loss: 3.920576, GB loss: 3.183554 ] time: 4:00:16.133176 \n",
            "[Epoch 26/50] [Batch 0] [D loss: 0.041296] [GA loss: 2.641293, GB loss: 2.800166 ] time: 4:05:08.844643 \n",
            "[Epoch 26/50] [Batch 250] [D loss: 0.022327] [GA loss: 2.953434, GB loss: 2.833117 ] time: 4:10:06.941632 \n",
            "[Epoch 27/50] [Batch 0] [D loss: 0.040392] [GA loss: 3.308868, GB loss: 2.584774 ] time: 4:15:04.160153 \n",
            "[Epoch 27/50] [Batch 250] [D loss: 0.029289] [GA loss: 5.419849, GB loss: 3.692740 ] time: 4:19:57.965243 \n",
            "[Epoch 28/50] [Batch 0] [D loss: 0.086286] [GA loss: 2.342033, GB loss: 2.817996 ] time: 4:24:51.311781 \n",
            "[Epoch 28/50] [Batch 250] [D loss: 0.122630] [GA loss: 2.393922, GB loss: 2.191203 ] time: 4:29:44.440338 \n",
            "[Epoch 29/50] [Batch 0] [D loss: 0.076757] [GA loss: 3.329005, GB loss: 2.776866 ] time: 4:34:37.585521 \n",
            "[Epoch 29/50] [Batch 250] [D loss: 0.073091] [GA loss: 3.345194, GB loss: 3.076522 ] time: 4:39:32.821031 \n",
            "[Epoch 30/50] [Batch 0] [D loss: 0.056635] [GA loss: 2.332016, GB loss: 2.637710 ] time: 4:44:27.815362 \n",
            "[Epoch 30/50] [Batch 250] [D loss: 0.055656] [GA loss: 4.793718, GB loss: 3.756063 ] time: 4:49:21.568508 \n",
            "[Epoch 31/50] [Batch 0] [D loss: 0.127420] [GA loss: 4.341809, GB loss: 3.448305 ] time: 4:54:15.315409 \n",
            "[Epoch 31/50] [Batch 250] [D loss: 0.100042] [GA loss: 3.333813, GB loss: 3.326168 ] time: 4:59:08.913291 \n",
            "[Epoch 32/50] [Batch 0] [D loss: 0.066690] [GA loss: 3.525214, GB loss: 3.307033 ] time: 5:04:02.579696 \n",
            "[Epoch 32/50] [Batch 250] [D loss: 0.031125] [GA loss: 4.373459, GB loss: 4.231189 ] time: 5:08:56.318030 \n",
            "[Epoch 33/50] [Batch 0] [D loss: 0.087114] [GA loss: 4.387814, GB loss: 4.214423 ] time: 5:13:51.686525 \n",
            "[Epoch 33/50] [Batch 250] [D loss: 0.022718] [GA loss: 3.214667, GB loss: 3.464458 ] time: 5:18:46.138685 \n",
            "[Epoch 34/50] [Batch 0] [D loss: 0.025066] [GA loss: 3.934690, GB loss: 3.261467 ] time: 5:23:40.195069 \n",
            "[Epoch 34/50] [Batch 250] [D loss: 0.020400] [GA loss: 3.648183, GB loss: 3.580794 ] time: 5:28:33.084527 \n",
            "[Epoch 35/50] [Batch 0] [D loss: 0.110813] [GA loss: 2.600217, GB loss: 3.130989 ] time: 5:33:26.914663 \n",
            "[Epoch 35/50] [Batch 250] [D loss: 0.059410] [GA loss: 2.931432, GB loss: 2.533875 ] time: 5:38:21.314663 \n",
            "[Epoch 36/50] [Batch 0] [D loss: 0.017091] [GA loss: 3.990502, GB loss: 3.543274 ] time: 5:43:14.924985 \n",
            "[Epoch 36/50] [Batch 250] [D loss: 0.093076] [GA loss: 2.442219, GB loss: 2.552892 ] time: 5:48:07.914806 \n",
            "[Epoch 37/50] [Batch 0] [D loss: 0.095294] [GA loss: 4.733303, GB loss: 3.548559 ] time: 5:53:03.761522 \n",
            "[Epoch 37/50] [Batch 250] [D loss: 0.040241] [GA loss: 2.901920, GB loss: 2.721841 ] time: 5:57:59.678086 \n",
            "[Epoch 38/50] [Batch 0] [D loss: 0.040088] [GA loss: 3.554596, GB loss: 3.031994 ] time: 6:02:52.994243 \n",
            "[Epoch 38/50] [Batch 250] [D loss: 0.029621] [GA loss: 5.909068, GB loss: 4.806087 ] time: 6:07:45.817990 \n",
            "[Epoch 39/50] [Batch 0] [D loss: 0.062129] [GA loss: 2.598729, GB loss: 2.652724 ] time: 6:12:39.430168 \n",
            "[Epoch 39/50] [Batch 250] [D loss: 0.044149] [GA loss: 3.526182, GB loss: 2.975317 ] time: 6:17:32.923100 \n",
            "[Epoch 40/50] [Batch 0] [D loss: 0.045368] [GA loss: 3.666152, GB loss: 3.657395 ] time: 6:22:25.632925 \n",
            "[Epoch 40/50] [Batch 250] [D loss: 0.050311] [GA loss: 4.015684, GB loss: 4.707634 ] time: 6:27:19.781509 \n",
            "[Epoch 41/50] [Batch 0] [D loss: 0.096531] [GA loss: 3.199926, GB loss: 3.057035 ] time: 6:32:14.171635 \n",
            "[Epoch 41/50] [Batch 250] [D loss: 0.061272] [GA loss: 2.681529, GB loss: 2.921446 ] time: 6:37:08.737148 \n",
            "[Epoch 42/50] [Batch 0] [D loss: 0.072153] [GA loss: 4.943544, GB loss: 3.587779 ] time: 6:42:02.426366 \n",
            "[Epoch 42/50] [Batch 250] [D loss: 0.076269] [GA loss: 3.939521, GB loss: 3.244462 ] time: 6:46:55.164704 \n",
            "[Epoch 43/50] [Batch 0] [D loss: 0.076641] [GA loss: 2.432922, GB loss: 2.635855 ] time: 6:51:49.365643 \n",
            "[Epoch 43/50] [Batch 250] [D loss: 0.020859] [GA loss: 4.010714, GB loss: 3.280452 ] time: 6:56:45.480564 \n",
            "[Epoch 44/50] [Batch 0] [D loss: 0.066475] [GA loss: 3.351501, GB loss: 2.980047 ] time: 7:01:39.765979 \n",
            "[Epoch 44/50] [Batch 250] [D loss: 0.046705] [GA loss: 2.732500, GB loss: 2.712296 ] time: 7:06:34.230962 \n",
            "[Epoch 45/50] [Batch 0] [D loss: 0.019336] [GA loss: 3.087948, GB loss: 3.680147 ] time: 7:11:27.945656 \n",
            "[Epoch 45/50] [Batch 250] [D loss: 0.040277] [GA loss: 2.407252, GB loss: 2.056672 ] time: 7:16:21.142777 \n",
            "[Epoch 46/50] [Batch 0] [D loss: 0.026661] [GA loss: 3.385396, GB loss: 3.094110 ] time: 7:21:16.555051 \n",
            "[Epoch 46/50] [Batch 250] [D loss: 0.011508] [GA loss: 5.625799, GB loss: 5.829915 ] time: 7:26:11.615269 \n",
            "[Epoch 47/50] [Batch 0] [D loss: 0.036308] [GA loss: 2.882427, GB loss: 3.268934 ] time: 7:31:05.310619 \n",
            "[Epoch 47/50] [Batch 250] [D loss: 0.039590] [GA loss: 4.503304, GB loss: 3.549634 ] time: 7:35:59.751727 \n",
            "[Epoch 48/50] [Batch 0] [D loss: 0.028679] [GA loss: 5.176635, GB loss: 3.689221 ] time: 7:40:52.969041 \n",
            "[Epoch 48/50] [Batch 250] [D loss: 0.036091] [GA loss: 4.090796, GB loss: 3.763277 ] time: 7:45:47.025922 \n",
            "[Epoch 49/50] [Batch 0] [D loss: 0.063423] [GA loss: 2.814173, GB loss: 2.697040 ] time: 7:50:41.250206 \n",
            "[Epoch 49/50] [Batch 250] [D loss: 0.035623] [GA loss: 2.664904, GB loss: 2.832867 ] time: 7:55:35.495796 \n",
            "[Epoch 50/50] [Batch 0] [D loss: 0.131319] [GA loss: 3.312480, GB loss: 3.280750 ] time: 8:00:30.917329 \n",
            "[Epoch 50/50] [Batch 250] [D loss: 0.085460] [GA loss: 3.131056, GB loss: 2.932113 ] time: 8:05:26.258762 \n"
          ],
          "name": "stdout"
        }
      ]
    },
    {
      "cell_type": "code",
      "metadata": {
        "id": "26FfiTVdpFjt",
        "colab_type": "code",
        "colab": {}
      },
      "source": [
        "dis_A.save('/content/drive/My Drive/App/CycleGAN/Faces/low_res/models/dis_A')"
      ],
      "execution_count": 0,
      "outputs": []
    },
    {
      "cell_type": "code",
      "metadata": {
        "id": "zM15_bmorHTN",
        "colab_type": "code",
        "colab": {}
      },
      "source": [
        "dis_B.save('/content/drive/My Drive/App/CycleGAN/Faces/low_res/models/dis_B')"
      ],
      "execution_count": 0,
      "outputs": []
    },
    {
      "cell_type": "code",
      "metadata": {
        "id": "VApRPNrgrN90",
        "colab_type": "code",
        "colab": {}
      },
      "source": [
        "gen_AB.save('/content/drive/My Drive/App/CycleGAN/Faces/low_res/models/gen_AB')"
      ],
      "execution_count": 0,
      "outputs": []
    },
    {
      "cell_type": "code",
      "metadata": {
        "id": "7ozAywUmrTdL",
        "colab_type": "code",
        "colab": {}
      },
      "source": [
        "gen_BA.save('/content/drive/My Drive/App/CycleGAN/Faces/low_res/models/gen_BA')"
      ],
      "execution_count": 0,
      "outputs": []
    },
    {
      "cell_type": "code",
      "metadata": {
        "id": "rAcLHH3rrXJQ",
        "colab_type": "code",
        "colab": {}
      },
      "source": [
        "combined_model_AB.save('/content/drive/My Drive/App/CycleGAN/Faces/low_res/models/comb_AB')"
      ],
      "execution_count": 0,
      "outputs": []
    },
    {
      "cell_type": "code",
      "metadata": {
        "id": "KMiJFNu9rhHT",
        "colab_type": "code",
        "colab": {}
      },
      "source": [
        "combined_model_BA.save('/content/drive/My Drive/App/CycleGAN/Faces/low_res/models/comb_BA')"
      ],
      "execution_count": 0,
      "outputs": []
    },
    {
      "cell_type": "code",
      "metadata": {
        "id": "YyeGqvAirnLj",
        "colab_type": "code",
        "colab": {}
      },
      "source": [
        "!cp '/content/gen_images/AtoB_plot_e49_0251.png' '/content/drive/My Drive/App/CycleGAN/Faces/low_res/gen_images'"
      ],
      "execution_count": 0,
      "outputs": []
    },
    {
      "cell_type": "code",
      "metadata": {
        "id": "OAIFXbGvvpos",
        "colab_type": "code",
        "colab": {}
      },
      "source": [
        "!cp '/content/gen_images/BtoA_plot_e49_0251.png' '/content/drive/My Drive/App/CycleGAN/Faces/low_res/gen_images'"
      ],
      "execution_count": 0,
      "outputs": []
    },
    {
      "cell_type": "code",
      "metadata": {
        "id": "tCUwl8VJvvh4",
        "colab_type": "code",
        "colab": {}
      },
      "source": [
        "!cp '/content/models/gen_modelAB_e050.hdf5' '/content/drive/My Drive/App/CycleGAN/Faces/low_res/models/gen_modelAB_e050.hdf5'"
      ],
      "execution_count": 0,
      "outputs": []
    },
    {
      "cell_type": "code",
      "metadata": {
        "id": "3yH8tBjewOAP",
        "colab_type": "code",
        "colab": {}
      },
      "source": [
        "!cp '/content/models/gen_modelBA_e050.hdf5' '/content/drive/My Drive/App/CycleGAN/Faces/low_res/models/gen_modelBA_e050.hdf5'"
      ],
      "execution_count": 0,
      "outputs": []
    },
    {
      "cell_type": "code",
      "metadata": {
        "id": "21kcYVwMwVAq",
        "colab_type": "code",
        "colab": {}
      },
      "source": [
        "!mv '/content/gen_images' '/content/gen_images_run2'\n",
        "!mv '/content/models' '/content/models_run2'"
      ],
      "execution_count": 0,
      "outputs": []
    },
    {
      "cell_type": "code",
      "metadata": {
        "id": "U_o0sRpdx_SN",
        "colab_type": "code",
        "colab": {}
      },
      "source": [
        "!mkdir '/content/gen_images'\n",
        "!mkdir '/content/models'"
      ],
      "execution_count": 0,
      "outputs": []
    },
    {
      "cell_type": "markdown",
      "metadata": {
        "id": "jetV4DDl-XVm",
        "colab_type": "text"
      },
      "source": [
        "## Load the trained models"
      ]
    },
    {
      "cell_type": "code",
      "metadata": {
        "id": "9XPKu2s8-ZTK",
        "colab_type": "code",
        "colab": {}
      },
      "source": [
        "!cp -r '/content/drive/My Drive/App/CycleGAN/Faces/low_res/models' /content\n",
        "\n"
      ],
      "execution_count": 0,
      "outputs": []
    },
    {
      "cell_type": "code",
      "metadata": {
        "id": "QonR5eET-1PA",
        "colab_type": "code",
        "colab": {}
      },
      "source": [
        "#!cp '/content/drive/My Drive/App/CycleGAN/Faces/low_res/models/gen_BA' /conent\n",
        "#!cp '/content/drive/My Drive/App/CycleGAN/Faces/low_res/models/dis_A' /conent\n",
        "#!cp '/content/drive/My Drive/App/CycleGAN/Faces/low_res/models/dis_B' /conent\n",
        "#!cp '/content/drive/My Drive/App/CycleGAN/Faces/low_res/models/comb_AB' /conent\n",
        "#!cp '/content/drive/My Drive/App/CycleGAN/Faces/low_res/models/comb_BA' /conent"
      ],
      "execution_count": 0,
      "outputs": []
    },
    {
      "cell_type": "code",
      "metadata": {
        "id": "3T4RWjDsALHQ",
        "colab_type": "code",
        "colab": {}
      },
      "source": [
        "!mv /content/models/dis_A /content/models/dis_A.hdf5"
      ],
      "execution_count": 0,
      "outputs": []
    },
    {
      "cell_type": "code",
      "metadata": {
        "id": "DEzLuZLqA78u",
        "colab_type": "code",
        "colab": {}
      },
      "source": [
        "from keras.models import load_model\n",
        "# from keras_contrib\n",
        "from keras_contrib.layers.normalization.instancenormalization import InstanceNormalization\n"
      ],
      "execution_count": 0,
      "outputs": []
    },
    {
      "cell_type": "code",
      "metadata": {
        "id": "V6opRGy4_ba0",
        "colab_type": "code",
        "colab": {
          "base_uri": "https://localhost:8080/",
          "height": 207
        },
        "outputId": "79a3a5ec-b28f-4d80-c549-daa2cc0dfd13"
      },
      "source": [
        "cust = {'InstanceNormalization':InstanceNormalization}\n",
        "dis_A = load_model('/content/models/dis_A.hdf5', cust)"
      ],
      "execution_count": 38,
      "outputs": [
        {
          "output_type": "stream",
          "text": [
            "W0810 05:39:36.870250 139721337706368 deprecation_wrapper.py:119] From /usr/local/lib/python3.6/dist-packages/keras/backend/tensorflow_backend.py:4138: The name tf.random_uniform is deprecated. Please use tf.random.uniform instead.\n",
            "\n",
            "W0810 05:39:37.175507 139721337706368 deprecation_wrapper.py:119] From /usr/local/lib/python3.6/dist-packages/keras/backend/tensorflow_backend.py:174: The name tf.get_default_session is deprecated. Please use tf.compat.v1.get_default_session instead.\n",
            "\n",
            "W0810 05:39:37.178967 139721337706368 deprecation_wrapper.py:119] From /usr/local/lib/python3.6/dist-packages/keras/backend/tensorflow_backend.py:181: The name tf.ConfigProto is deprecated. Please use tf.compat.v1.ConfigProto instead.\n",
            "\n",
            "W0810 05:39:37.181187 139721337706368 deprecation_wrapper.py:119] From /usr/local/lib/python3.6/dist-packages/keras/backend/tensorflow_backend.py:186: The name tf.Session is deprecated. Please use tf.compat.v1.Session instead.\n",
            "\n",
            "W0810 05:39:40.235575 139721337706368 deprecation_wrapper.py:119] From /usr/local/lib/python3.6/dist-packages/keras/optimizers.py:790: The name tf.train.Optimizer is deprecated. Please use tf.compat.v1.train.Optimizer instead.\n",
            "\n"
          ],
          "name": "stderr"
        }
      ]
    },
    {
      "cell_type": "code",
      "metadata": {
        "id": "5HBw235zDovG",
        "colab_type": "code",
        "colab": {}
      },
      "source": [
        "dis_B   = load_model('/content/models/dis_B',cust)"
      ],
      "execution_count": 0,
      "outputs": []
    },
    {
      "cell_type": "code",
      "metadata": {
        "id": "FbcZurJ_DsRk",
        "colab_type": "code",
        "colab": {
          "base_uri": "https://localhost:8080/",
          "height": 71
        },
        "outputId": "07dff31c-b377-45b8-f672-095320349d7f"
      },
      "source": [
        "gen_AB  = load_model('/content/models/gen_AB',cust)\n",
        "gen_BA  = load_model('/content/models/gen_BA',cust)"
      ],
      "execution_count": 42,
      "outputs": [
        {
          "output_type": "stream",
          "text": [
            "/usr/local/lib/python3.6/dist-packages/keras/engine/saving.py:292: UserWarning: No training configuration found in save file: the model was *not* compiled. Compile it manually.\n",
            "  warnings.warn('No training configuration found in save file: '\n"
          ],
          "name": "stderr"
        }
      ]
    },
    {
      "cell_type": "code",
      "metadata": {
        "id": "1SaHlStc_-ZQ",
        "colab_type": "code",
        "colab": {
          "base_uri": "https://localhost:8080/",
          "height": 105
        },
        "outputId": "bee173eb-4b7c-48e2-d7c1-9474d98c22fc"
      },
      "source": [
        "comb_AB = load_model('/content/models/comb_AB',cust)\n",
        "comb_BA = load_model('/content/models/comb_BA',cust)"
      ],
      "execution_count": 43,
      "outputs": [
        {
          "output_type": "stream",
          "text": [
            "/usr/local/lib/python3.6/dist-packages/keras/engine/saving.py:327: UserWarning: Error in loading the saved optimizer state. As a result, your model is starting with a freshly initialized optimizer.\n",
            "  warnings.warn('Error in loading the saved optimizer '\n",
            "/usr/local/lib/python3.6/dist-packages/keras/engine/saving.py:327: UserWarning: Error in loading the saved optimizer state. As a result, your model is starting with a freshly initialized optimizer.\n",
            "  warnings.warn('Error in loading the saved optimizer '\n"
          ],
          "name": "stderr"
        }
      ]
    },
    {
      "cell_type": "markdown",
      "metadata": {
        "id": "kE_GaL1fERb-",
        "colab_type": "text"
      },
      "source": [
        "## Train 10 more (61 thru 70)"
      ]
    },
    {
      "cell_type": "code",
      "metadata": {
        "id": "W2qUrBAcEtr-",
        "colab_type": "code",
        "colab": {}
      },
      "source": [
        "!mkdir /content/gen_images\n",
        "#!mkdir /content/models"
      ],
      "execution_count": 0,
      "outputs": []
    },
    {
      "cell_type": "code",
      "metadata": {
        "id": "noVBPkmuE3n6",
        "colab_type": "code",
        "colab": {}
      },
      "source": [
        "!mv /content/models /content/old_models"
      ],
      "execution_count": 0,
      "outputs": []
    },
    {
      "cell_type": "code",
      "metadata": {
        "id": "1FhZ5VSkE7g2",
        "colab_type": "code",
        "colab": {}
      },
      "source": [
        "!mkdir /content/models"
      ],
      "execution_count": 0,
      "outputs": []
    },
    {
      "cell_type": "code",
      "metadata": {
        "id": "1OayK8VfCsac",
        "colab_type": "code",
        "colab": {
          "base_uri": "https://localhost:8080/",
          "height": 357
        },
        "outputId": "57840cbe-f460-43ad-df29-de8f1dda9ed9"
      },
      "source": [
        "# perform training\n",
        "n_epochs = 10\n",
        "train(n_epochs, n_batch_size, sample_interval,\n",
        "     dis_A, dis_B,\n",
        "     gen_AB, gen_BA,\n",
        "     comb_AB, comb_BA,\n",
        "     trainA, \n",
        "     trainB)"
      ],
      "execution_count": 51,
      "outputs": [
        {
          "output_type": "stream",
          "text": [
            "[Epoch 1/10] [Batch 0] [D loss: 0.019375] [GA loss: 3.152634, GB loss: 3.122714 ] time: 0:01:18.218249 \n",
            "[Epoch 1/10] [Batch 250] [D loss: 0.012319] [GA loss: 1.970519, GB loss: 1.686912 ] time: 0:07:55.381372 \n",
            "[Epoch 2/10] [Batch 0] [D loss: 0.027718] [GA loss: 1.643641, GB loss: 1.305251 ] time: 0:14:31.218902 \n",
            "[Epoch 2/10] [Batch 250] [D loss: 0.010343] [GA loss: 1.457999, GB loss: 1.535118 ] time: 0:21:06.879577 \n",
            "[Epoch 3/10] [Batch 0] [D loss: 0.012809] [GA loss: 1.873905, GB loss: 2.364418 ] time: 0:29:22.393632 \n",
            "[Epoch 3/10] [Batch 250] [D loss: 0.020429] [GA loss: 2.051445, GB loss: 2.400681 ] time: 0:35:58.125933 \n",
            "[Epoch 4/10] [Batch 0] [D loss: 0.007793] [GA loss: 2.697351, GB loss: 2.392731 ] time: 0:42:33.593235 \n",
            "[Epoch 4/10] [Batch 250] [D loss: 0.005521] [GA loss: 1.299808, GB loss: 1.873229 ] time: 0:49:09.454148 \n",
            "[Epoch 5/10] [Batch 0] [D loss: 0.005942] [GA loss: 1.285210, GB loss: 1.530530 ] time: 0:55:45.629594 \n",
            "[Epoch 5/10] [Batch 250] [D loss: 0.025968] [GA loss: 3.282638, GB loss: 3.190808 ] time: 1:02:20.927474 \n",
            "[Epoch 6/10] [Batch 0] [D loss: 0.012473] [GA loss: 1.798441, GB loss: 2.206275 ] time: 1:08:56.574300 \n",
            "[Epoch 6/10] [Batch 250] [D loss: 0.006960] [GA loss: 3.926779, GB loss: 3.283438 ] time: 1:15:31.737978 \n",
            "[Epoch 7/10] [Batch 0] [D loss: 0.005228] [GA loss: 2.473318, GB loss: 2.284281 ] time: 1:22:07.922736 \n",
            "[Epoch 7/10] [Batch 250] [D loss: 0.006502] [GA loss: 2.050750, GB loss: 2.150703 ] time: 1:28:41.182421 \n",
            "[Epoch 8/10] [Batch 0] [D loss: 0.013826] [GA loss: 1.459888, GB loss: 1.826788 ] time: 1:35:16.090135 \n",
            "[Epoch 8/10] [Batch 250] [D loss: 0.011327] [GA loss: 1.304643, GB loss: 1.614712 ] time: 1:41:50.085360 \n",
            "[Epoch 9/10] [Batch 0] [D loss: 0.003509] [GA loss: 2.160782, GB loss: 2.207627 ] time: 1:48:24.253367 \n",
            "[Epoch 9/10] [Batch 250] [D loss: 0.007307] [GA loss: 2.638831, GB loss: 2.277670 ] time: 1:54:56.777563 \n",
            "[Epoch 10/10] [Batch 0] [D loss: 0.005371] [GA loss: 1.654339, GB loss: 1.487544 ] time: 2:01:28.929730 \n",
            "[Epoch 10/10] [Batch 250] [D loss: 0.008732] [GA loss: 2.294401, GB loss: 3.087087 ] time: 2:08:01.567995 \n"
          ],
          "name": "stdout"
        }
      ]
    },
    {
      "cell_type": "code",
      "metadata": {
        "id": "ZHRYHIWDFEDv",
        "colab_type": "code",
        "colab": {}
      },
      "source": [
        "!cp '/content/models/gen_modelAB_e010.hdf5' '/content/drive/My Drive/App/CycleGAN/Faces/low_res/models/gen_AB_e70.hdf5'"
      ],
      "execution_count": 0,
      "outputs": []
    },
    {
      "cell_type": "code",
      "metadata": {
        "id": "gVfbgdP1qq0M",
        "colab_type": "code",
        "colab": {}
      },
      "source": [
        "!cp '/content/models/gen_modelBA_e010.hdf5' '/content/drive/My Drive/App/CycleGAN/Faces/low_res/models/gen_BA_e70.hdf5'"
      ],
      "execution_count": 0,
      "outputs": []
    },
    {
      "cell_type": "code",
      "metadata": {
        "id": "1ka6iNmOq4DB",
        "colab_type": "code",
        "colab": {}
      },
      "source": [
        "!cp -r '/content/gen_images' '/content/drive/My Drive/App/CycleGAN/Faces/low_res/gen_images_e70'"
      ],
      "execution_count": 0,
      "outputs": []
    },
    {
      "cell_type": "code",
      "metadata": {
        "id": "S_AZbthwrIc_",
        "colab_type": "code",
        "colab": {}
      },
      "source": [
        ""
      ],
      "execution_count": 0,
      "outputs": []
    },
    {
      "cell_type": "code",
      "metadata": {
        "colab_type": "code",
        "id": "MZndhDINrrSb",
        "colab": {}
      },
      "source": [
        "dis_A.save('/content/drive/My Drive/App/CycleGAN/Faces/low_res/models_e70/dis_A')\n",
        "dis_B.save('/content/drive/My Drive/App/CycleGAN/Faces/low_res/models_e70/dis_B')\n",
        "gen_AB.save('/content/drive/My Drive/App/CycleGAN/Faces/low_res/models_e70/gen_AB')\n",
        "gen_BA.save('/content/drive/My Drive/App/CycleGAN/Faces/low_res/models_e70/gen_BA')\n"
      ],
      "execution_count": 0,
      "outputs": []
    },
    {
      "cell_type": "code",
      "metadata": {
        "id": "Cz_8ddVfsGBH",
        "colab_type": "code",
        "colab": {}
      },
      "source": [
        "comb_AB.save('/content/drive/My Drive/App/CycleGAN/Faces/low_res/models_e70/comb_AB')\n",
        "comb_BA.save('/content/drive/My Drive/App/CycleGAN/Faces/low_res/models_e70/comb_BA')"
      ],
      "execution_count": 0,
      "outputs": []
    },
    {
      "cell_type": "code",
      "metadata": {
        "id": "MFIiDhDxtzZO",
        "colab_type": "code",
        "colab": {}
      },
      "source": [
        "comb_AB.save('/content/comb_AB.hdf5')"
      ],
      "execution_count": 0,
      "outputs": []
    },
    {
      "cell_type": "code",
      "metadata": {
        "id": "TSuvLJgJvfPt",
        "colab_type": "code",
        "colab": {}
      },
      "source": [
        "comb_BA.save('/content/comb_BA.hdf5')"
      ],
      "execution_count": 0,
      "outputs": []
    },
    {
      "cell_type": "code",
      "metadata": {
        "id": "btFVMLHuuCVB",
        "colab_type": "code",
        "colab": {}
      },
      "source": [
        "!cp '/content/comb_AB.hdf5' '/content/drive/My Drive/App/CycleGAN/Faces/low_res/models_e70/comb_AB.hdf5'"
      ],
      "execution_count": 0,
      "outputs": []
    },
    {
      "cell_type": "code",
      "metadata": {
        "id": "ot_2OsOpupr7",
        "colab_type": "code",
        "colab": {}
      },
      "source": [
        "!cp '/content/comb_BA.hdf5' '/content/drive/My Drive/App/CycleGAN/Faces/low_res/models_e70/comb_BA.hdf5'"
      ],
      "execution_count": 0,
      "outputs": []
    },
    {
      "cell_type": "code",
      "metadata": {
        "id": "P2QN92we4go4",
        "colab_type": "code",
        "colab": {}
      },
      "source": [
        "!mv /content/gen_images /content/gen_images_e70\n",
        "!mv /content/models /content/models_e70"
      ],
      "execution_count": 0,
      "outputs": []
    },
    {
      "cell_type": "code",
      "metadata": {
        "id": "IZKpOyJS45t9",
        "colab_type": "code",
        "colab": {}
      },
      "source": [
        "!mkdir /content/models\n",
        "!mkdir /content/gen_images"
      ],
      "execution_count": 0,
      "outputs": []
    },
    {
      "cell_type": "markdown",
      "metadata": {
        "id": "ul_aREmJ4UZQ",
        "colab_type": "text"
      },
      "source": [
        "## Train some more (Epochs 70 thru 90)"
      ]
    },
    {
      "cell_type": "code",
      "metadata": {
        "id": "PldJu2Frvs4e",
        "colab_type": "code",
        "colab": {
          "base_uri": "https://localhost:8080/",
          "height": 697
        },
        "outputId": "81f3e28c-4076-445b-e530-1eb7f2b9456f"
      },
      "source": [
        "# perform training\n",
        "n_epochs = 20\n",
        "train(n_epochs, n_batch_size, sample_interval,\n",
        "     dis_A, dis_B,\n",
        "     gen_AB, gen_BA,\n",
        "     comb_AB, comb_BA,\n",
        "     trainA, \n",
        "     trainB)"
      ],
      "execution_count": 70,
      "outputs": [
        {
          "output_type": "stream",
          "text": [
            "[Epoch 1/20] [Batch 0] [D loss: 0.004783] [GA loss: 1.663634, GB loss: 1.603557 ] time: 0:00:01.732597 \n",
            "[Epoch 1/20] [Batch 250] [D loss: 0.003340] [GA loss: 1.365775, GB loss: 1.464820 ] time: 0:06:36.440047 \n",
            "[Epoch 2/20] [Batch 0] [D loss: 0.007187] [GA loss: 1.259685, GB loss: 1.529884 ] time: 0:13:10.841447 \n",
            "[Epoch 2/20] [Batch 250] [D loss: 0.002996] [GA loss: 2.636429, GB loss: 2.261585 ] time: 0:19:45.176121 \n",
            "[Epoch 3/20] [Batch 0] [D loss: 0.002116] [GA loss: 1.667826, GB loss: 1.766800 ] time: 0:26:19.543273 \n",
            "[Epoch 3/20] [Batch 250] [D loss: 0.003143] [GA loss: 1.855464, GB loss: 1.697687 ] time: 0:32:53.083043 \n",
            "[Epoch 4/20] [Batch 0] [D loss: 0.008835] [GA loss: 1.517345, GB loss: 1.985160 ] time: 0:39:26.883675 \n",
            "[Epoch 4/20] [Batch 250] [D loss: 0.003478] [GA loss: 1.172623, GB loss: 1.239328 ] time: 0:46:01.101361 \n",
            "[Epoch 5/20] [Batch 0] [D loss: 0.002532] [GA loss: 2.726803, GB loss: 2.176687 ] time: 0:52:35.634328 \n",
            "[Epoch 5/20] [Batch 250] [D loss: 0.002819] [GA loss: 1.464695, GB loss: 1.404304 ] time: 0:59:09.779528 \n",
            "[Epoch 6/20] [Batch 0] [D loss: 0.001433] [GA loss: 1.367104, GB loss: 1.707061 ] time: 1:05:41.532058 \n",
            "[Epoch 6/20] [Batch 250] [D loss: 0.005805] [GA loss: 2.533709, GB loss: 2.131785 ] time: 1:12:14.823666 \n",
            "[Epoch 7/20] [Batch 0] [D loss: 0.006661] [GA loss: 2.721739, GB loss: 2.424793 ] time: 1:18:49.563756 \n",
            "[Epoch 7/20] [Batch 250] [D loss: 0.001790] [GA loss: 1.993555, GB loss: 1.783540 ] time: 1:25:22.901661 \n",
            "[Epoch 8/20] [Batch 0] [D loss: 0.003320] [GA loss: 1.807139, GB loss: 1.593150 ] time: 1:31:55.254760 \n",
            "[Epoch 8/20] [Batch 250] [D loss: 0.001961] [GA loss: 1.378901, GB loss: 1.667398 ] time: 1:38:28.745935 \n",
            "[Epoch 9/20] [Batch 0] [D loss: 0.002507] [GA loss: 1.608409, GB loss: 1.535405 ] time: 1:45:05.553374 \n",
            "[Epoch 9/20] [Batch 250] [D loss: 0.003290] [GA loss: 1.499754, GB loss: 1.412114 ] time: 1:51:42.106536 \n",
            "[Epoch 10/20] [Batch 0] [D loss: 0.003313] [GA loss: 2.675299, GB loss: 2.282831 ] time: 1:58:18.539305 \n",
            "[Epoch 10/20] [Batch 250] [D loss: 0.003065] [GA loss: 1.490557, GB loss: 1.553247 ] time: 2:04:55.166828 \n",
            "[Epoch 11/20] [Batch 0] [D loss: 0.004782] [GA loss: 1.806419, GB loss: 2.023458 ] time: 2:11:31.407757 \n",
            "[Epoch 11/20] [Batch 250] [D loss: 0.004054] [GA loss: 1.361034, GB loss: 1.403012 ] time: 2:18:06.712326 \n",
            "[Epoch 12/20] [Batch 0] [D loss: 0.002394] [GA loss: 0.944322, GB loss: 0.954779 ] time: 2:24:43.314571 \n",
            "[Epoch 12/20] [Batch 250] [D loss: 0.003042] [GA loss: 1.499954, GB loss: 1.582652 ] time: 2:31:19.309964 \n",
            "[Epoch 13/20] [Batch 0] [D loss: 0.000875] [GA loss: 1.066866, GB loss: 1.197931 ] time: 2:37:56.382689 \n",
            "[Epoch 13/20] [Batch 250] [D loss: 0.003846] [GA loss: 1.331080, GB loss: 1.383218 ] time: 2:44:33.410768 \n",
            "[Epoch 14/20] [Batch 0] [D loss: 0.002031] [GA loss: 1.259516, GB loss: 1.386699 ] time: 2:51:10.190540 \n",
            "[Epoch 14/20] [Batch 250] [D loss: 0.002082] [GA loss: 1.218332, GB loss: 1.335270 ] time: 2:57:45.818620 \n",
            "[Epoch 15/20] [Batch 0] [D loss: 0.001667] [GA loss: 0.903085, GB loss: 1.081218 ] time: 3:04:23.128035 \n",
            "[Epoch 15/20] [Batch 250] [D loss: 0.001218] [GA loss: 1.360896, GB loss: 1.266761 ] time: 3:10:59.062004 \n",
            "[Epoch 16/20] [Batch 0] [D loss: 0.001334] [GA loss: 1.748521, GB loss: 1.497480 ] time: 3:17:31.167462 \n",
            "[Epoch 16/20] [Batch 250] [D loss: 0.004739] [GA loss: 2.886945, GB loss: 3.229200 ] time: 3:24:03.609095 \n",
            "[Epoch 17/20] [Batch 0] [D loss: 0.002140] [GA loss: 1.680343, GB loss: 1.685502 ] time: 3:30:34.880977 \n",
            "[Epoch 17/20] [Batch 250] [D loss: 0.002833] [GA loss: 1.752101, GB loss: 1.873784 ] time: 3:37:04.923968 \n",
            "[Epoch 18/20] [Batch 0] [D loss: 0.001226] [GA loss: 1.211546, GB loss: 1.206521 ] time: 3:43:34.821035 \n",
            "[Epoch 18/20] [Batch 250] [D loss: 0.001924] [GA loss: 1.049606, GB loss: 1.023849 ] time: 3:50:02.885129 \n",
            "[Epoch 19/20] [Batch 0] [D loss: 0.000936] [GA loss: 1.196237, GB loss: 1.338060 ] time: 3:56:32.726728 \n",
            "[Epoch 19/20] [Batch 250] [D loss: 0.001818] [GA loss: 1.313223, GB loss: 1.263697 ] time: 4:03:00.700482 \n",
            "[Epoch 20/20] [Batch 0] [D loss: 0.001256] [GA loss: 1.107170, GB loss: 1.374056 ] time: 4:09:27.943761 \n",
            "[Epoch 20/20] [Batch 250] [D loss: 0.001021] [GA loss: 1.405456, GB loss: 1.581503 ] time: 4:15:56.457692 \n"
          ],
          "name": "stdout"
        }
      ]
    },
    {
      "cell_type": "code",
      "metadata": {
        "id": "cHYEkktZ_oz8",
        "colab_type": "code",
        "colab": {}
      },
      "source": [
        "dis_A.save('/content/drive/My Drive/App/CycleGAN/Faces/low_res/models_e90/dis_A')\n",
        "dis_B.save('/content/drive/My Drive/App/CycleGAN/Faces/low_res/models_e90/dis_B')\n",
        "gen_AB.save('/content/drive/My Drive/App/CycleGAN/Faces/low_res/models_e90/gen_AB')\n",
        "gen_BA.save('/content/drive/My Drive/App/CycleGAN/Faces/low_res/models_e90/gen_BA')\n",
        "comb_AB.save('/content/drive/My Drive/App/CycleGAN/Faces/low_res/models_e90/comb_AB')\n",
        "comb_BA.save('/content/drive/My Drive/App/CycleGAN/Faces/low_res/models_e90/comb_BA')"
      ],
      "execution_count": 0,
      "outputs": []
    },
    {
      "cell_type": "code",
      "metadata": {
        "id": "Kbyoeo02AWZ_",
        "colab_type": "code",
        "colab": {}
      },
      "source": [
        "!cp -r /content/gen_images '/content/drive/My Drive/App/CycleGAN/Faces/low_res/gen_images_e90'"
      ],
      "execution_count": 0,
      "outputs": []
    },
    {
      "cell_type": "code",
      "metadata": {
        "id": "D1BmD6GPAx-h",
        "colab_type": "code",
        "colab": {}
      },
      "source": [
        "!mv gen_images gen_images_90\n",
        "!mv models models_90"
      ],
      "execution_count": 0,
      "outputs": []
    },
    {
      "cell_type": "code",
      "metadata": {
        "id": "ScqRTJhKBYWj",
        "colab_type": "code",
        "colab": {}
      },
      "source": [
        "!mkdir gen_images\n",
        "!mkdir models"
      ],
      "execution_count": 0,
      "outputs": []
    },
    {
      "cell_type": "markdown",
      "metadata": {
        "id": "gQgd1qU4BlZy",
        "colab_type": "text"
      },
      "source": [
        "## Train more (epochs 90 thru 100)"
      ]
    },
    {
      "cell_type": "code",
      "metadata": {
        "id": "JKCDgy-_Bi3c",
        "colab_type": "code",
        "colab": {
          "base_uri": "https://localhost:8080/",
          "height": 357
        },
        "outputId": "f1bb521b-5b12-4cb9-f2b1-495201e8035f"
      },
      "source": [
        "# perform training\n",
        "n_epochs = 10\n",
        "train(n_epochs, n_batch_size, sample_interval,\n",
        "     dis_A, dis_B,\n",
        "     gen_AB, gen_BA,\n",
        "     comb_AB, comb_BA,\n",
        "     trainA, \n",
        "     trainB)"
      ],
      "execution_count": 77,
      "outputs": [
        {
          "output_type": "stream",
          "text": [
            "[Epoch 1/10] [Batch 0] [D loss: 0.000805] [GA loss: 1.571090, GB loss: 1.327103 ] time: 0:00:01.689662 \n",
            "[Epoch 1/10] [Batch 250] [D loss: 0.002237] [GA loss: 1.301857, GB loss: 1.335426 ] time: 0:06:27.990259 \n",
            "[Epoch 2/10] [Batch 0] [D loss: 0.001656] [GA loss: 1.217103, GB loss: 1.522710 ] time: 0:12:53.982364 \n",
            "[Epoch 2/10] [Batch 250] [D loss: 0.000936] [GA loss: 1.378377, GB loss: 1.250276 ] time: 0:19:21.774303 \n",
            "[Epoch 3/10] [Batch 0] [D loss: 0.001940] [GA loss: 1.627454, GB loss: 1.874849 ] time: 0:25:50.720505 \n",
            "[Epoch 3/10] [Batch 250] [D loss: 0.002066] [GA loss: 1.652478, GB loss: 1.570552 ] time: 0:32:17.013869 \n",
            "[Epoch 4/10] [Batch 0] [D loss: 0.002477] [GA loss: 1.444516, GB loss: 1.541596 ] time: 0:38:44.801013 \n",
            "[Epoch 4/10] [Batch 250] [D loss: 0.001667] [GA loss: 2.107458, GB loss: 1.925315 ] time: 0:45:12.107604 \n",
            "[Epoch 5/10] [Batch 0] [D loss: 0.001351] [GA loss: 1.013837, GB loss: 1.152637 ] time: 0:51:41.040292 \n",
            "[Epoch 5/10] [Batch 250] [D loss: 0.000536] [GA loss: 1.261417, GB loss: 1.087020 ] time: 0:58:08.543206 \n",
            "[Epoch 6/10] [Batch 0] [D loss: 0.001123] [GA loss: 1.779975, GB loss: 2.139514 ] time: 1:04:36.509296 \n",
            "[Epoch 6/10] [Batch 250] [D loss: 0.001043] [GA loss: 0.986499, GB loss: 0.965989 ] time: 1:11:03.325867 \n",
            "[Epoch 7/10] [Batch 0] [D loss: 0.000662] [GA loss: 2.072138, GB loss: 1.997921 ] time: 1:17:31.204625 \n",
            "[Epoch 7/10] [Batch 250] [D loss: 0.001475] [GA loss: 0.897518, GB loss: 1.312395 ] time: 1:24:00.429755 \n",
            "[Epoch 8/10] [Batch 0] [D loss: 0.000563] [GA loss: 1.291074, GB loss: 1.719850 ] time: 1:30:30.053991 \n",
            "[Epoch 8/10] [Batch 250] [D loss: 0.000696] [GA loss: 1.281830, GB loss: 1.127110 ] time: 1:36:57.568706 \n",
            "[Epoch 9/10] [Batch 0] [D loss: 0.000675] [GA loss: 1.694654, GB loss: 1.333246 ] time: 1:43:25.574222 \n",
            "[Epoch 9/10] [Batch 250] [D loss: 0.000749] [GA loss: 2.039193, GB loss: 1.703247 ] time: 1:49:53.518392 \n",
            "[Epoch 10/10] [Batch 0] [D loss: 0.000602] [GA loss: 1.383258, GB loss: 1.591201 ] time: 1:56:21.060651 \n",
            "[Epoch 10/10] [Batch 250] [D loss: 0.000659] [GA loss: 1.328976, GB loss: 1.212890 ] time: 2:02:48.426706 \n"
          ],
          "name": "stdout"
        }
      ]
    },
    {
      "cell_type": "code",
      "metadata": {
        "id": "0_JAht1jBuNm",
        "colab_type": "code",
        "colab": {}
      },
      "source": [
        "dis_A.save('/content/drive/My Drive/App/CycleGAN/Faces/low_res/models_e100/dis_A')\n",
        "dis_B.save('/content/drive/My Drive/App/CycleGAN/Faces/low_res/models_e100/dis_B')\n",
        "gen_AB.save('/content/drive/My Drive/App/CycleGAN/Faces/low_res/models_e100/gen_AB')\n",
        "gen_BA.save('/content/drive/My Drive/App/CycleGAN/Faces/low_res/models_e100/gen_BA')\n",
        "comb_AB.save('/content/drive/My Drive/App/CycleGAN/Faces/low_res/models_e100/comb_AB')\n",
        "comb_BA.save('/content/drive/My Drive/App/CycleGAN/Faces/low_res/models_e100/comb_BA')"
      ],
      "execution_count": 0,
      "outputs": []
    },
    {
      "cell_type": "code",
      "metadata": {
        "id": "Fp2DErrNfbeB",
        "colab_type": "code",
        "colab": {}
      },
      "source": [
        "!cp -r /content/gen_images '/content/drive/My Drive/App/CycleGAN/Faces/low_res/gen_images_e100'"
      ],
      "execution_count": 0,
      "outputs": []
    }
  ]
}